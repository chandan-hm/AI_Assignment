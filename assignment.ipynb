{
  "nbformat": 4,
  "nbformat_minor": 0,
  "metadata": {
    "colab": {
      "name": "assignment.ipynb",
      "version": "0.3.2",
      "views": {},
      "default_view": {},
      "provenance": []
    },
    "kernelspec": {
      "name": "python3",
      "display_name": "Python 3"
    }
  },
  "cells": [
    {
      "metadata": {
        "id": "_fOAWYyqxv_s",
        "colab_type": "code",
        "colab": {
          "autoexec": {
            "startup": false,
            "wait_interval": 0
          }
        }
      },
      "cell_type": "code",
      "source": [
        "from sklearn.preprocessing import LabelEncoder\n",
        "from sklearn.cross_validation import train_test_split\n",
        "from keras.models import Sequential\n",
        "from keras.layers import Activation\n",
        "from keras.optimizers import SGD\n",
        "from keras.layers import Dense\n",
        "from keras.utils import np_utils\n",
        "from imutils import paths\n",
        "import numpy as np\n",
        "import argparse"
      ],
      "execution_count": 0,
      "outputs": []
    },
    {
      "metadata": {
        "id": "Ou7C5XFVyUtF",
        "colab_type": "code",
        "colab": {
          "autoexec": {
            "startup": false,
            "wait_interval": 0
          }
        }
      },
      "cell_type": "code",
      "source": [
        "from keras.datasets import mnist"
      ],
      "execution_count": 0,
      "outputs": []
    },
    {
      "metadata": {
        "id": "W2xIsM5pyb8u",
        "colab_type": "code",
        "colab": {
          "autoexec": {
            "startup": false,
            "wait_interval": 0
          }
        }
      },
      "cell_type": "code",
      "source": [
        "(x_train, y_train), (x_test, y_test) = mnist.load_data()"
      ],
      "execution_count": 0,
      "outputs": []
    },
    {
      "metadata": {
        "id": "Edp7HByhyesh",
        "colab_type": "code",
        "colab": {
          "autoexec": {
            "startup": false,
            "wait_interval": 0
          }
        }
      },
      "cell_type": "code",
      "source": [
        "x1_train=[]\n",
        "y1_train=[]\n",
        "x1_test=[]\n",
        "y1_test=[]"
      ],
      "execution_count": 0,
      "outputs": []
    },
    {
      "metadata": {
        "id": "xU61Z0LD0IX1",
        "colab_type": "code",
        "colab": {
          "autoexec": {
            "startup": false,
            "wait_interval": 0
          }
        }
      },
      "cell_type": "code",
      "source": [
        "for i in range(0,len(x_train)):\n",
        "  x1_train.append(x_train[i].flatten())\n",
        "  y1_train.append(y_train[i])\n",
        "  \n",
        "for i in range(0,len(x_test)):\n",
        "  x1_test.append(x_test[i].flatten())\n",
        "  y1_test.append(y_test[i])\n",
        "  "
      ],
      "execution_count": 0,
      "outputs": []
    },
    {
      "metadata": {
        "id": "KuvG7XEW1j4a",
        "colab_type": "code",
        "colab": {
          "autoexec": {
            "startup": false,
            "wait_interval": 0
          }
        }
      },
      "cell_type": "code",
      "source": [
        "y1_train=np_utils.to_categorical(y1_train, 10)\n",
        "y1_test=np_utils.to_categorical(y1_test, 10)"
      ],
      "execution_count": 0,
      "outputs": []
    },
    {
      "metadata": {
        "id": "zSS-otpk5XdM",
        "colab_type": "code",
        "colab": {
          "autoexec": {
            "startup": false,
            "wait_interval": 0
          },
          "output_extras": [
            {
              "item_id": 1
            }
          ],
          "base_uri": "https://localhost:8080/",
          "height": 138
        },
        "outputId": "e0482c45-bfed-4bac-b2cf-16468e01ee5b",
        "executionInfo": {
          "status": "ok",
          "timestamp": 1519815500409,
          "user_tz": -330,
          "elapsed": 1191,
          "user": {
            "displayName": "Chandan Hiremath",
            "photoUrl": "//lh5.googleusercontent.com/-_5VFUxA4nts/AAAAAAAAAAI/AAAAAAAAB-o/5rqpy-uKmLo/s50-c-k-no/photo.jpg",
            "userId": "104980647446076431499"
          }
        }
      },
      "cell_type": "code",
      "source": [
        "model=Sequential()\n",
        "model.add(Dense(448, input_dim=784, init=\"uniform\",\n",
        "\tactivation=\"relu\"))\n",
        "model.add(Dense(448, init=\"uniform\", activation=\"relu\"))\n",
        "model.add(Dense(448, init=\"uniform\", activation=\"relu\"))\n",
        "model.add(Dense(10, activation=\"softmax\"))"
      ],
      "execution_count": 68,
      "outputs": [
        {
          "output_type": "stream",
          "text": [
            "/usr/local/lib/python3.6/dist-packages/ipykernel_launcher.py:3: UserWarning: Update your `Dense` call to the Keras 2 API: `Dense(448, input_dim=784, activation=\"relu\", kernel_initializer=\"uniform\")`\n",
            "  This is separate from the ipykernel package so we can avoid doing imports until\n",
            "/usr/local/lib/python3.6/dist-packages/ipykernel_launcher.py:4: UserWarning: Update your `Dense` call to the Keras 2 API: `Dense(448, activation=\"relu\", kernel_initializer=\"uniform\")`\n",
            "  after removing the cwd from sys.path.\n",
            "/usr/local/lib/python3.6/dist-packages/ipykernel_launcher.py:5: UserWarning: Update your `Dense` call to the Keras 2 API: `Dense(448, activation=\"relu\", kernel_initializer=\"uniform\")`\n",
            "  \"\"\"\n"
          ],
          "name": "stderr"
        }
      ]
    },
    {
      "metadata": {
        "id": "8tjomixE5o-K",
        "colab_type": "code",
        "colab": {
          "autoexec": {
            "startup": false,
            "wait_interval": 0
          },
          "output_extras": [
            {
              "item_id": 46
            },
            {
              "item_id": 73
            },
            {
              "item_id": 95
            },
            {
              "item_id": 119
            },
            {
              "item_id": 142
            },
            {
              "item_id": 182
            },
            {
              "item_id": 199
            },
            {
              "item_id": 200
            }
          ],
          "base_uri": "https://localhost:8080/",
          "height": 726
        },
        "outputId": "1c216d53-8d86-41ac-8451-1e64277d335e",
        "executionInfo": {
          "status": "ok",
          "timestamp": 1519815648009,
          "user_tz": -330,
          "elapsed": 147365,
          "user": {
            "displayName": "Chandan Hiremath",
            "photoUrl": "//lh5.googleusercontent.com/-_5VFUxA4nts/AAAAAAAAAAI/AAAAAAAAB-o/5rqpy-uKmLo/s50-c-k-no/photo.jpg",
            "userId": "104980647446076431499"
          }
        }
      },
      "cell_type": "code",
      "source": [
        "sgd = SGD(lr=0.01)\n",
        "model.compile(loss=\"binary_crossentropy\", optimizer=sgd,\n",
        "\tmetrics=[\"accuracy\"])\n",
        "model.fit(np.array(x1_train), np.array(y1_train), epochs=20, batch_size=128)"
      ],
      "execution_count": 69,
      "outputs": [
        {
          "output_type": "stream",
          "text": [
            "Epoch 1/20\n",
            "60000/60000 [==============================] - 6s 106us/step - loss: 0.3720 - acc: 0.9575\n",
            "Epoch 2/20\n",
            "60000/60000 [==============================] - 7s 119us/step - loss: 0.0310 - acc: 0.9900\n",
            "Epoch 3/20\n",
            "60000/60000 [==============================] - 7s 118us/step - loss: 0.0202 - acc: 0.9936\n",
            "Epoch 4/20\n",
            "35968/60000 [================>.............] - ETA: 2s - loss: 0.0142 - acc: 0.9955"
          ],
          "name": "stdout"
        },
        {
          "output_type": "stream",
          "text": [
            "60000/60000 [==============================] - 7s 123us/step - loss: 0.0143 - acc: 0.9956\n",
            "Epoch 5/20\n",
            "60000/60000 [==============================] - 7s 116us/step - loss: 0.0108 - acc: 0.9967\n",
            "Epoch 6/20\n",
            "60000/60000 [==============================] - 7s 117us/step - loss: 0.0083 - acc: 0.9977\n",
            "Epoch 7/20\n",
            "49408/60000 [=======================>......] - ETA: 1s - loss: 0.0064 - acc: 0.9984"
          ],
          "name": "stdout"
        },
        {
          "output_type": "stream",
          "text": [
            "60000/60000 [==============================] - 7s 117us/step - loss: 0.0065 - acc: 0.9983\n",
            "Epoch 8/20\n",
            "60000/60000 [==============================] - 7s 118us/step - loss: 0.0052 - acc: 0.9988\n",
            "Epoch 9/20\n",
            "60000/60000 [==============================] - 7s 122us/step - loss: 0.0042 - acc: 0.9992\n",
            "Epoch 10/20\n",
            "48640/60000 [=======================>......] - ETA: 1s - loss: 0.0033 - acc: 0.9994"
          ],
          "name": "stdout"
        },
        {
          "output_type": "stream",
          "text": [
            "60000/60000 [==============================] - 8s 125us/step - loss: 0.0034 - acc: 0.9994\n",
            "Epoch 11/20\n",
            "60000/60000 [==============================] - 7s 125us/step - loss: 0.0028 - acc: 0.9995\n",
            "Epoch 12/20\n",
            "60000/60000 [==============================] - 7s 125us/step - loss: 0.0023 - acc: 0.9997\n",
            "Epoch 13/20\n",
            "46336/60000 [======================>.......] - ETA: 1s - loss: 0.0019 - acc: 0.9998"
          ],
          "name": "stdout"
        },
        {
          "output_type": "stream",
          "text": [
            "60000/60000 [==============================] - 8s 127us/step - loss: 0.0020 - acc: 0.9998\n",
            "Epoch 14/20\n",
            "60000/60000 [==============================] - 8s 125us/step - loss: 0.0017 - acc: 0.9998\n",
            "Epoch 15/20\n",
            "60000/60000 [==============================] - 8s 126us/step - loss: 0.0015 - acc: 0.9999\n",
            "Epoch 16/20\n",
            "45952/60000 [=====================>........] - ETA: 1s - loss: 0.0013 - acc: 0.9999"
          ],
          "name": "stdout"
        },
        {
          "output_type": "stream",
          "text": [
            "60000/60000 [==============================] - 8s 126us/step - loss: 0.0013 - acc: 0.9999\n",
            "Epoch 17/20\n",
            "60000/60000 [==============================] - 8s 126us/step - loss: 0.0011 - acc: 0.9999\n",
            "Epoch 18/20\n",
            "60000/60000 [==============================] - 8s 125us/step - loss: 9.9166e-04 - acc: 0.9999\n",
            "Epoch 19/20\n",
            "46080/60000 [======================>.......] - ETA: 1s - loss: 8.9755e-04 - acc: 1.0000"
          ],
          "name": "stdout"
        },
        {
          "output_type": "stream",
          "text": [
            "60000/60000 [==============================] - 8s 125us/step - loss: 8.8889e-04 - acc: 1.0000\n",
            "Epoch 20/20\n",
            "60000/60000 [==============================] - 8s 125us/step - loss: 7.9990e-04 - acc: 1.0000\n"
          ],
          "name": "stdout"
        },
        {
          "output_type": "execute_result",
          "data": {
            "text/plain": [
              "<keras.callbacks.History at 0x7ff515af3390>"
            ]
          },
          "metadata": {
            "tags": []
          },
          "execution_count": 69
        }
      ]
    },
    {
      "metadata": {
        "id": "6TKnfmSh6D7Z",
        "colab_type": "code",
        "colab": {
          "autoexec": {
            "startup": false,
            "wait_interval": 0
          },
          "output_extras": [
            {
              "item_id": 2
            }
          ],
          "base_uri": "https://localhost:8080/",
          "height": 51
        },
        "outputId": "acd10470-afe2-4d05-9fa0-084006415cb6",
        "executionInfo": {
          "status": "ok",
          "timestamp": 1519815649838,
          "user_tz": -330,
          "elapsed": 1725,
          "user": {
            "displayName": "Chandan Hiremath",
            "photoUrl": "//lh5.googleusercontent.com/-_5VFUxA4nts/AAAAAAAAAAI/AAAAAAAAB-o/5rqpy-uKmLo/s50-c-k-no/photo.jpg",
            "userId": "104980647446076431499"
          }
        }
      },
      "cell_type": "code",
      "source": [
        "(loss, accuracy) = model.evaluate(np.array(x1_test), np.array(y1_test),\n",
        "\tbatch_size=128, verbose=1)\n",
        "print(\"[INFO] loss={:.4f}, accuracy: {:.4f}%\".format(loss,\n",
        "\taccuracy * 100))"
      ],
      "execution_count": 70,
      "outputs": [
        {
          "output_type": "stream",
          "text": [
            "10000/10000 [==============================] - 1s 57us/step\n",
            "[INFO] loss=0.0215, accuracy: 99.3580%\n"
          ],
          "name": "stdout"
        }
      ]
    },
    {
      "metadata": {
        "id": "mpGqLvnV8FCp",
        "colab_type": "code",
        "colab": {
          "autoexec": {
            "startup": false,
            "wait_interval": 0
          }
        }
      },
      "cell_type": "code",
      "source": [
        ""
      ],
      "execution_count": 0,
      "outputs": []
    }
  ]
}